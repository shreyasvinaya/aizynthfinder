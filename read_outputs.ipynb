{
 "cells": [
  {
   "cell_type": "code",
   "execution_count": 1,
   "metadata": {},
   "outputs": [],
   "source": [
    "import pandas as pd\n",
    "data = pd.read_json(\"output.json.gz\", orient=\"table\")"
   ]
  },
  {
   "cell_type": "code",
   "execution_count": 2,
   "metadata": {},
   "outputs": [
    {
     "name": "stdout",
     "output_type": "stream",
     "text": [
      "<class 'pandas.core.frame.DataFrame'>\n",
      "Int64Index: 24 entries, 0 to 23\n",
      "Data columns (total 22 columns):\n",
      " #   Column                         Non-Null Count  Dtype  \n",
      "---  ------                         --------------  -----  \n",
      " 0   target                         24 non-null     object \n",
      " 1   search_time                    24 non-null     float64\n",
      " 2   first_solution_time            24 non-null     float64\n",
      " 3   first_solution_iteration       24 non-null     int64  \n",
      " 4   number_of_nodes                24 non-null     int64  \n",
      " 5   max_transforms                 24 non-null     int64  \n",
      " 6   max_children                   24 non-null     int64  \n",
      " 7   number_of_routes               24 non-null     int64  \n",
      " 8   number_of_solved_routes        24 non-null     int64  \n",
      " 9   top_score                      24 non-null     float64\n",
      " 10  is_solved                      24 non-null     bool   \n",
      " 11  number_of_steps                24 non-null     int64  \n",
      " 12  number_of_precursors           24 non-null     int64  \n",
      " 13  number_of_precursors_in_stock  24 non-null     int64  \n",
      " 14  precursors_in_stock            24 non-null     object \n",
      " 15  precursors_not_in_stock        24 non-null     object \n",
      " 16  precursors_availability        24 non-null     object \n",
      " 17  policy_used_counts             24 non-null     object \n",
      " 18  profiling                      24 non-null     object \n",
      " 19  stock_info                     24 non-null     object \n",
      " 20  top_scores                     24 non-null     object \n",
      " 21  trees                          24 non-null     object \n",
      "dtypes: bool(1), float64(3), int64(9), object(9)\n",
      "memory usage: 4.1+ KB\n"
     ]
    }
   ],
   "source": [
    "data.info()\n"
   ]
  },
  {
   "cell_type": "code",
   "execution_count": 3,
   "metadata": {},
   "outputs": [
    {
     "name": "stdout",
     "output_type": "stream",
     "text": [
      "Number of trees for NC(=O)c1nc(F)cnc1O: 8\n",
      "Number of trees for O=c1[nH]c2cc(Cl)ccc2o1: 12\n",
      "Number of trees for Cc1ncc([N+](=O)[O-])n1CCO: 5\n",
      "Number of trees for Cn1c(=O)c2[nH]cnc2n(C)c1=O: 9\n",
      "Number of trees for CCCOC(=O)c1ccc(O)cc1: 6\n",
      "Number of trees for Cc1ncc([N+](=O)[O-])n1CC(C)O: 5\n",
      "Number of trees for Cc1cccc(C)c1NC(=O)C(C)N: 5\n",
      "Number of trees for CCCn1c(=O)[nH]c(=O)c2[nH]cnc21: 9\n",
      "Number of trees for Cc1[nH]c(=O)c(C#N)cc1-c1ccncc1: 8\n",
      "Number of trees for C[C@](N)(Cc1ccc(O)c(O)c1)C(=O)O: 6\n",
      "Number of trees for COc1ccc(OC)c(C(O)C(C)N)c1: 16\n",
      "Number of trees for NS(=O)(=O)Cc1noc2ccccc12: 6\n",
      "Number of trees for O=c1cc(-c2ccccc2)oc2ccccc12: 16\n",
      "Number of trees for CC1=NS(=O)(=O)c2cc(Cl)ccc2N1: 6\n",
      "Number of trees for COc1ccc2cc([C@H](C)C(=O)O)ccc2c1: 8\n",
      "Number of trees for CCn1cc(C(=O)O)c(=O)c2ccc(C)nc21: 10\n",
      "Number of trees for CCC1(c2ccccc2)C(=O)NC(=O)NC1=O: 5\n",
      "Number of trees for COc1ccc2[nH]cc(CCNC(C)=O)c2c1: 7\n",
      "Number of trees for [H][C@@]1(C(=O)O)N2C(=O)C[C@@]2([H])S(=O)(=O)C1(C)C: 7\n",
      "Number of trees for Nc1nc2ccc(OC(F)(F)F)cc2s1: 8\n",
      "Number of trees for O=c1nc[nH]c2c1ncn2[C@H]1CC[C@@H](CO)O1: 7\n",
      "Number of trees for Cc1cc(Br)c(O)c2ncccc12: 8\n",
      "Number of trees for Nc1ccc(S(=O)(=O)Nc2ncccn2)cc1: 6\n",
      "Number of trees for CCC(c1ccccc1)c1c(O)c2ccccc2oc1=O: 6\n"
     ]
    }
   ],
   "source": [
    "import os\n",
    "from aizynthfinder.reactiontree import ReactionTree\n",
    "\n",
    "all_trees = data.trees.values  # This contains a list of all the trees for all the compounds\n",
    "targets = data.target.values  # This contains the target SMILES\n",
    "for i in range(len(all_trees)):\n",
    "    print(f\"Number of trees for {targets[i]}: {len(all_trees[i])}\")\n",
    "    trees_for_first_target = all_trees[i]\n",
    "    if not os.path.exists(f\"out/new2/{targets[i]}\"):\n",
    "        os.makedirs(f\"out/new2/{targets[i]}\")\n",
    "    for itree, tree in enumerate(trees_for_first_target):\n",
    "        imagefile = f\"out/new2/{targets[i]}/route{itree:03d}.png\"\n",
    "        ReactionTree.from_dict(tree).to_image().save(imagefile)"
   ]
  },
  {
   "cell_type": "code",
   "execution_count": 4,
   "metadata": {},
   "outputs": [],
   "source": [
    "from rdkit import Chem\n",
    "reader1 = Chem.MolFromSmiles(\"H04M000-L.d.smi\")"
   ]
  },
  {
   "cell_type": "code",
   "execution_count": 8,
   "metadata": {},
   "outputs": [],
   "source": [
    "reader1"
   ]
  },
  {
   "cell_type": "code",
   "execution_count": null,
   "metadata": {},
   "outputs": [],
   "source": []
  },
  {
   "cell_type": "code",
   "execution_count": null,
   "metadata": {},
   "outputs": [],
   "source": []
  }
 ],
 "metadata": {
  "kernelspec": {
   "display_name": "aizynth-env",
   "language": "python",
   "name": "python3"
  },
  "language_info": {
   "codemirror_mode": {
    "name": "ipython",
    "version": 3
   },
   "file_extension": ".py",
   "mimetype": "text/x-python",
   "name": "python",
   "nbconvert_exporter": "python",
   "pygments_lexer": "ipython3",
   "version": "3.9.18"
  }
 },
 "nbformat": 4,
 "nbformat_minor": 2
}
